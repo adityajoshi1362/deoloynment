{
 "cells": [
  {
   "cell_type": "code",
   "execution_count": 3,
   "id": "0d561a8e",
   "metadata": {},
   "outputs": [
    {
     "name": "stdout",
     "output_type": "stream",
     "text": [
      "Predicted NO concentration: 106.66666666666704\n"
     ]
    },
    {
     "name": "stderr",
     "output_type": "stream",
     "text": [
      "c:\\Users\\Aditya Joshi\\anaconda3\\Lib\\site-packages\\sklearn\\base.py:376: InconsistentVersionWarning: Trying to unpickle estimator StandardScaler from version 1.6.1 when using version 1.5.1. This might lead to breaking code or invalid results. Use at your own risk. For more info please refer to:\n",
      "https://scikit-learn.org/stable/model_persistence.html#security-maintainability-limitations\n",
      "  warnings.warn(\n",
      "c:\\Users\\Aditya Joshi\\anaconda3\\Lib\\site-packages\\sklearn\\base.py:376: InconsistentVersionWarning: Trying to unpickle estimator DecisionTreeRegressor from version 1.6.1 when using version 1.5.1. This might lead to breaking code or invalid results. Use at your own risk. For more info please refer to:\n",
      "https://scikit-learn.org/stable/model_persistence.html#security-maintainability-limitations\n",
      "  warnings.warn(\n",
      "c:\\Users\\Aditya Joshi\\anaconda3\\Lib\\site-packages\\sklearn\\base.py:376: InconsistentVersionWarning: Trying to unpickle estimator RandomForestRegressor from version 1.6.1 when using version 1.5.1. This might lead to breaking code or invalid results. Use at your own risk. For more info please refer to:\n",
      "https://scikit-learn.org/stable/model_persistence.html#security-maintainability-limitations\n",
      "  warnings.warn(\n",
      "c:\\Users\\Aditya Joshi\\anaconda3\\Lib\\site-packages\\sklearn\\base.py:376: InconsistentVersionWarning: Trying to unpickle estimator Pipeline from version 1.6.1 when using version 1.5.1. This might lead to breaking code or invalid results. Use at your own risk. For more info please refer to:\n",
      "https://scikit-learn.org/stable/model_persistence.html#security-maintainability-limitations\n",
      "  warnings.warn(\n",
      "c:\\Users\\Aditya Joshi\\anaconda3\\Lib\\site-packages\\sklearn\\base.py:493: UserWarning: X does not have valid feature names, but StandardScaler was fitted with feature names\n",
      "  warnings.warn(\n"
     ]
    }
   ],
   "source": [
    "import joblib\n",
    "import numpy as np\n",
    "\n",
    "# Load the pipeline\n",
    "model = joblib.load('final_pipeline.pkl')\n",
    "\n",
    "# Example input: replace this with the actual shape your model expects\n",
    "# For example, if your model was trained on 4 features:\n",
    "input_features = [520, 250, 80]\n",
    "\n",
    "# Convert to 2D array for prediction\n",
    "input_array = np.array(input_features).reshape(1, -1)\n",
    "\n",
    "# Get prediction\n",
    "prediction = model.predict(input_array)\n",
    "\n",
    "print(\"Predicted NO concentration:\", prediction[0])\n"
   ]
  },
  {
   "cell_type": "code",
   "execution_count": 7,
   "id": "21d5a67e",
   "metadata": {},
   "outputs": [
    {
     "name": "stdout",
     "output_type": "stream",
     "text": [
      " * Serving Flask app '__main__'\n",
      " * Debug mode: on\n"
     ]
    },
    {
     "name": "stderr",
     "output_type": "stream",
     "text": [
      "WARNING: This is a development server. Do not use it in a production deployment. Use a production WSGI server instead.\n",
      " * Running on http://127.0.0.1:5000\n",
      "Press CTRL+C to quit\n",
      " * Restarting with watchdog (windowsapi)\n"
     ]
    },
    {
     "ename": "SystemExit",
     "evalue": "1",
     "output_type": "error",
     "traceback": [
      "An exception has occurred, use %tb to see the full traceback.\n",
      "\u001b[1;31mSystemExit\u001b[0m\u001b[1;31m:\u001b[0m 1\n"
     ]
    }
   ],
   "source": [
    "from flask import Flask, request, jsonify\n",
    "import joblib\n",
    "import numpy as np\n",
    "\n",
    "app = Flask(__name__)\n",
    "\n",
    "# Load your pipeline\n",
    "model = joblib.load('final_pipeline.pkl')\n",
    "\n",
    "@app.route('/predict', methods=['POST'])\n",
    "def predict():\n",
    "    try:\n",
    "        data = request.json.get('features')  # JSON must have \"features\"\n",
    "        if data is None:\n",
    "            return jsonify({'error': 'No input features provided'}), 400\n",
    "\n",
    "        input_array = np.array(data).reshape(1, -1)\n",
    "        prediction = model.predict(input_array)\n",
    "\n",
    "        return jsonify({'prediction': float(prediction[0])})\n",
    "\n",
    "    except Exception as e:\n",
    "        return jsonify({'error': str(e)}), 500\n",
    "\n",
    "if __name__ == '__main__':\n",
    "    app.run(debug=True)\n"
   ]
  },
  {
   "cell_type": "code",
   "execution_count": 5,
   "id": "8a0ceba6",
   "metadata": {},
   "outputs": [
    {
     "name": "stdout",
     "output_type": "stream",
     "text": [
      "Collecting scikit-learn==1.6.1\n",
      "  Downloading scikit_learn-1.6.1-cp312-cp312-win_amd64.whl.metadata (15 kB)\n",
      "Requirement already satisfied: numpy>=1.19.5 in c:\\users\\aditya joshi\\anaconda3\\lib\\site-packages (from scikit-learn==1.6.1) (1.26.4)\n",
      "Requirement already satisfied: scipy>=1.6.0 in c:\\users\\aditya joshi\\anaconda3\\lib\\site-packages (from scikit-learn==1.6.1) (1.13.1)\n",
      "Requirement already satisfied: joblib>=1.2.0 in c:\\users\\aditya joshi\\anaconda3\\lib\\site-packages (from scikit-learn==1.6.1) (1.4.2)\n",
      "Requirement already satisfied: threadpoolctl>=3.1.0 in c:\\users\\aditya joshi\\anaconda3\\lib\\site-packages (from scikit-learn==1.6.1) (3.5.0)\n",
      "Downloading scikit_learn-1.6.1-cp312-cp312-win_amd64.whl (11.1 MB)\n",
      "   ---------------------------------------- 0.0/11.1 MB ? eta -:--:--\n",
      "   ---------------------------------------- 0.0/11.1 MB ? eta -:--:--\n",
      "   ---------------------------------------- 0.0/11.1 MB ? eta -:--:--\n",
      "    --------------------------------------- 0.3/11.1 MB ? eta -:--:--\n",
      "    --------------------------------------- 0.3/11.1 MB ? eta -:--:--\n",
      "   - -------------------------------------- 0.5/11.1 MB 699.0 kB/s eta 0:00:16\n",
      "   - -------------------------------------- 0.5/11.1 MB 699.0 kB/s eta 0:00:16\n",
      "   -- ------------------------------------- 0.8/11.1 MB 713.3 kB/s eta 0:00:15\n",
      "   --- ------------------------------------ 1.0/11.1 MB 838.4 kB/s eta 0:00:13\n",
      "   --- ------------------------------------ 1.0/11.1 MB 838.4 kB/s eta 0:00:13\n",
      "   ---- ----------------------------------- 1.3/11.1 MB 789.6 kB/s eta 0:00:13\n",
      "   ----- ---------------------------------- 1.6/11.1 MB 783.9 kB/s eta 0:00:13\n",
      "   ------ --------------------------------- 1.8/11.1 MB 845.6 kB/s eta 0:00:11\n",
      "   ------- -------------------------------- 2.1/11.1 MB 896.4 kB/s eta 0:00:11\n",
      "   -------- ------------------------------- 2.4/11.1 MB 938.3 kB/s eta 0:00:10\n",
      "   --------- ------------------------------ 2.6/11.1 MB 974.1 kB/s eta 0:00:09\n",
      "   ---------- ----------------------------- 2.9/11.1 MB 1.0 MB/s eta 0:00:09\n",
      "   ----------- ---------------------------- 3.1/11.1 MB 1.0 MB/s eta 0:00:08\n",
      "   ------------ --------------------------- 3.4/11.1 MB 1.1 MB/s eta 0:00:08\n",
      "   -------------- ------------------------- 3.9/11.1 MB 1.2 MB/s eta 0:00:07\n",
      "   --------------- ------------------------ 4.2/11.1 MB 1.2 MB/s eta 0:00:06\n",
      "   ---------------- ----------------------- 4.5/11.1 MB 1.1 MB/s eta 0:00:06\n",
      "   ----------------- ---------------------- 5.0/11.1 MB 1.2 MB/s eta 0:00:06\n",
      "   ------------------ --------------------- 5.2/11.1 MB 1.2 MB/s eta 0:00:05\n",
      "   -------------------- ------------------- 5.8/11.1 MB 1.3 MB/s eta 0:00:05\n",
      "   --------------------- ------------------ 6.0/11.1 MB 1.3 MB/s eta 0:00:04\n",
      "   ----------------------- ---------------- 6.6/11.1 MB 1.3 MB/s eta 0:00:04\n",
      "   ------------------------ --------------- 6.8/11.1 MB 1.4 MB/s eta 0:00:04\n",
      "   -------------------------- ------------- 7.3/11.1 MB 1.4 MB/s eta 0:00:03\n",
      "   -------------------------- ------------- 7.3/11.1 MB 1.4 MB/s eta 0:00:03\n",
      "   ----------------------------- ---------- 8.1/11.1 MB 1.4 MB/s eta 0:00:03\n",
      "   ------------------------------- -------- 8.7/11.1 MB 1.5 MB/s eta 0:00:02\n",
      "   ------------------------------- -------- 8.7/11.1 MB 1.5 MB/s eta 0:00:02\n",
      "   --------------------------------- ------ 9.2/11.1 MB 1.4 MB/s eta 0:00:02\n",
      "   --------------------------------- ------ 9.4/11.1 MB 1.4 MB/s eta 0:00:02\n",
      "   ----------------------------------- ---- 10.0/11.1 MB 1.5 MB/s eta 0:00:01\n",
      "   ------------------------------------ --- 10.2/11.1 MB 1.5 MB/s eta 0:00:01\n",
      "   -------------------------------------- - 10.7/11.1 MB 1.5 MB/s eta 0:00:01\n",
      "   ---------------------------------------- 11.1/11.1 MB 1.5 MB/s eta 0:00:00\n",
      "Installing collected packages: scikit-learn\n",
      "  Attempting uninstall: scikit-learn\n",
      "    Found existing installation: scikit-learn 1.5.1\n",
      "    Uninstalling scikit-learn-1.5.1:\n",
      "      Successfully uninstalled scikit-learn-1.5.1\n",
      "Successfully installed scikit-learn-1.6.1\n",
      "Note: you may need to restart the kernel to use updated packages.\n"
     ]
    },
    {
     "name": "stderr",
     "output_type": "stream",
     "text": [
      "WARNING: Ignoring invalid distribution ~umba (c:\\Users\\Aditya Joshi\\anaconda3\\Lib\\site-packages)\n",
      "WARNING: Ignoring invalid distribution ~umba (c:\\Users\\Aditya Joshi\\anaconda3\\Lib\\site-packages)\n",
      "WARNING: Ignoring invalid distribution ~umba (c:\\Users\\Aditya Joshi\\anaconda3\\Lib\\site-packages)\n"
     ]
    }
   ],
   "source": [
    "pip install scikit-learn==1.6.1\n"
   ]
  },
  {
   "cell_type": "code",
   "execution_count": null,
   "id": "6154e41d",
   "metadata": {},
   "outputs": [],
   "source": []
  }
 ],
 "metadata": {
  "kernelspec": {
   "display_name": "base",
   "language": "python",
   "name": "python3"
  },
  "language_info": {
   "codemirror_mode": {
    "name": "ipython",
    "version": 3
   },
   "file_extension": ".py",
   "mimetype": "text/x-python",
   "name": "python",
   "nbconvert_exporter": "python",
   "pygments_lexer": "ipython3",
   "version": "3.12.7"
  }
 },
 "nbformat": 4,
 "nbformat_minor": 5
}
